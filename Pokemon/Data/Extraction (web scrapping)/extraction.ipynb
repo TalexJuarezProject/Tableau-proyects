{
 "cells": [
  {
   "cell_type": "code",
   "execution_count": null,
   "metadata": {},
   "outputs": [],
   "source": [
    "import requests\n",
    "import csv\n",
    "\n",
    "# Crear el archivo CSV y definir las cabeceras\n",
    "with open('pokedex_description.csv', mode='w', newline='', encoding='utf-8') as file:\n",
    "    writer = csv.writer(file)\n",
    "    writer.writerow(['ID', 'Description'])  # Cabeceras del CSV\n",
    "    \n",
    "    # Iterar sobre los IDs de los Pokémon\n",
    "    for pokemon_number in range(1, 1026):\n",
    "        url = f'https://pokeapi.co/api/v2/pokemon-species/{pokemon_number}'\n",
    "        response = requests.get(url)\n",
    "\n",
    "        if response.status_code == 200:\n",
    "            data = response.json()\n",
    "            flavor_text_entries = data.get('flavor_text_entries', [])\n",
    "\n",
    "            # Filtrar las descripciones en inglés\n",
    "            english_descriptions = [\n",
    "                entry['flavor_text'].replace('\\n', ' ').replace('\\f', ' ')\n",
    "                for entry in flavor_text_entries\n",
    "                if entry['language']['name'] == 'en'\n",
    "            ]\n",
    "            \n",
    "            # Obtener la primera descripción en inglés (si existe)\n",
    "            if english_descriptions:\n",
    "                description = english_descriptions[0]\n",
    "            else:\n",
    "                description = 'No description available'\n",
    "\n",
    "            # Escribir en el CSV el ID del Pokémon y su descripción\n",
    "            writer.writerow([pokemon_number, description])\n",
    "\n",
    "        else:\n",
    "            print(f'Error al acceder al Pokémon {pokemon_number}: {response.status_code}')\n",
    "\n",
    "print('Extracción completada y archivo CSV guardado como pokedex_description.csv')"
   ]
  }
 ],
 "metadata": {
  "language_info": {
   "name": "python"
  }
 },
 "nbformat": 4,
 "nbformat_minor": 2
}
